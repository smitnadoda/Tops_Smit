{
 "cells": [
  {
   "cell_type": "code",
   "execution_count": 1,
   "id": "5b5d9158-a555-4f1e-adf3-a34aa6293c13",
   "metadata": {},
   "outputs": [
    {
     "name": "stdout",
     "output_type": "stream",
     "text": [
      "Requirement already satisfied: requests in c:\\users\\shiva\\anaconda3\\lib\\site-packages (2.32.3)\n",
      "Requirement already satisfied: beautifulsoup4 in c:\\users\\shiva\\anaconda3\\lib\\site-packages (4.12.3)\n",
      "Requirement already satisfied: charset-normalizer<4,>=2 in c:\\users\\shiva\\anaconda3\\lib\\site-packages (from requests) (3.3.2)\n",
      "Requirement already satisfied: idna<4,>=2.5 in c:\\users\\shiva\\anaconda3\\lib\\site-packages (from requests) (3.7)\n",
      "Requirement already satisfied: urllib3<3,>=1.21.1 in c:\\users\\shiva\\anaconda3\\lib\\site-packages (from requests) (2.2.3)\n",
      "Requirement already satisfied: certifi>=2017.4.17 in c:\\users\\shiva\\anaconda3\\lib\\site-packages (from requests) (2025.1.31)\n",
      "Requirement already satisfied: soupsieve>1.2 in c:\\users\\shiva\\anaconda3\\lib\\site-packages (from beautifulsoup4) (2.5)\n",
      "Note: you may need to restart the kernel to use updated packages.\n"
     ]
    }
   ],
   "source": [
    "pip install requests beautifulsoup4"
   ]
  },
  {
   "cell_type": "code",
   "execution_count": 3,
   "id": "86819cbb-8cc0-4caa-932a-88f7970ffed1",
   "metadata": {},
   "outputs": [],
   "source": [
    "import requests\n",
    "from bs4 import BeautifulSoup\n",
    "import csv"
   ]
  },
  {
   "cell_type": "code",
   "execution_count": 7,
   "id": "2e05834b-ec71-48e1-b5f5-d2d93e0edbf9",
   "metadata": {},
   "outputs": [
    {
     "name": "stdout",
     "output_type": "stream",
     "text": [
      "Data saved to cart.csv 🎉\n"
     ]
    }
   ],
   "source": [
    "url = \"https://wayuumarket.com/?gad_source=1&gad_campaignid=21002654809&gbraid=0AAAAAoKtognfXc0FHNlPlUMpUNWY65DTl&gclid=CjwKCAjw8IfABhBXEiwAxRHlsMWsqARGeT2TrHZnCnIHrDQNEOKGcSbdB5p-XppNXGgz_AbSoNCIXxoC7n4QAvD_BwE\"\n",
    "\n",
    "response = requests.get(url)\n",
    "soup = BeautifulSoup(response.text, \"html.parser\")\n",
    "carts = soup.find_all(\"li\", class_=\"product\")\n",
    "\n",
    "with open(\"cart.csv\", mode=\"w\", newline=\"\", encoding=\"utf-8\") as file:\n",
    "    writer = csv.writer(file)\n",
    "    writer.writerow([\"Title\", \"Price\"])\n",
    "\n",
    "    for cart in carts:\n",
    "        title_tag = cart.find(\"h2\", class_=\"woocommerce-loop-product__title\")\n",
    "        price_tag = cart.find(\"span\", class_=\"woocommerce-Price-amount\")\n",
    "\n",
    "        title = title_tag.text.strip() if title_tag else \"N/A\"\n",
    "        price = price_tag.text.strip() if price_tag else \"N/A\"\n",
    "\n",
    "        writer.writerow([title, price])\n",
    "\n",
    "print(\"Data saved to cart.csv 🎉\")"
   ]
  },
  {
   "cell_type": "code",
   "execution_count": null,
   "id": "6d25eff1-4c2a-4e13-a5b0-a3ccd6a74fb4",
   "metadata": {},
   "outputs": [],
   "source": []
  }
 ],
 "metadata": {
  "kernelspec": {
   "display_name": "Python [conda env:base] *",
   "language": "python",
   "name": "conda-base-py"
  },
  "language_info": {
   "codemirror_mode": {
    "name": "ipython",
    "version": 3
   },
   "file_extension": ".py",
   "mimetype": "text/x-python",
   "name": "python",
   "nbconvert_exporter": "python",
   "pygments_lexer": "ipython3",
   "version": "3.12.7"
  }
 },
 "nbformat": 4,
 "nbformat_minor": 5
}
